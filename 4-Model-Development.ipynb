{
 "cells": [
  {
   "attachments": {},
   "cell_type": "markdown",
   "metadata": {},
   "source": [
    "## Building Model to Predict Game Outcomes\n",
    "\n",
    "Now that I have created and extracted the features that I think will be useful for predicting game outcomes, I will go ahead and start building out my models. I will be testing the following models as they perform well for binary classification tasks:\n",
    "\n",
    "* Ridge Classifier: a linear classification model that performs L2 regularization control multi-collinearity of the features\n",
    "* K-Neighbors Classifier: predicts categorical outcome by based on k-closest neighbors in the training set, can detect non-linear decision boundaries\n",
    "* Gradient Boosting Classifier: ensemble model that combines multiple weak learners, normally decision trees, to create a strong learned for classification problems\n",
    "* Bagging Classifier: boostrap aggregation method that uses one algorithm on different subsets of the training set\n",
    "* Random Forest Classifier: an ensemble learning model that combines multiple decision trees to create a more accurate model, randomly selects a subset of features for each tree to prevent overfitting and improve accuracy\n",
    "* Decision Tree Classifier: tree-like model that splits data based on the feature that maximizes information gain or reduces impurity at each node\n",
    "* Logistic Regression: a statistical model that is commonly used to predict binary outcomes, assumes a linear relationship between the input variables and the log-odds of the outcome\n",
    "* XGB Classifier: a form of gradient boosting that is useful for controling overfitting in the training set\n",
    "\n",
    "Before building my model to predict game outcomes, I will self-merge the dataframe so that all rows contain both home team and away team data. Then, I will select the features that can go in to the model (all numeric and boolean features), before using feature selection to further filter out the features with little predictive power. Finally, I will test out different binary classification machine learning models to see which performs best. "
   ]
  },
  {
   "cell_type": "code",
   "execution_count": 334,
   "metadata": {},
   "outputs": [
    {
     "data": {
      "text/plain": [
       "array(['SEASON_ID', 'TEAM_ID', 'TEAM_ABBREVIATION', 'TEAM_NAME',\n",
       "       'GAME_ID', 'GAME_DATE', 'MATCHUP', 'MIN', 'PTS', 'FGM', 'FGA',\n",
       "       'FG_PCT', 'FG3M', 'FG3A', 'FG3_PCT', 'FTM', 'FTA', 'FT_PCT',\n",
       "       'OREB', 'DREB', 'REB', 'AST', 'STL', 'BLK', 'TOV', 'PF',\n",
       "       'PLUS_MINUS', 'win_lose_margin', 'home', 'win', 'home_team_abv',\n",
       "       'away_team_abv', 'matchup_id', 'three_matchup_win_pct',\n",
       "       'rest_days', 'win_streak', 'MIN_MA', 'PTS_MA', 'FGM_MA', 'FGA_MA',\n",
       "       'FG_PCT_MA', 'FG3M_MA', 'FG3A_MA', 'FG3_PCT_MA', 'FTM_MA',\n",
       "       'FTA_MA', 'FT_PCT_MA', 'OREB_MA', 'DREB_MA', 'REB_MA', 'AST_MA',\n",
       "       'STL_MA', 'BLK_MA', 'TOV_MA', 'PF_MA', 'PLUS_MINUS_MA',\n",
       "       'win_lose_margin_MA', 'win_MA', 'home_MA', 'rest_days_MA',\n",
       "       'win_record', 'loss_record', 'season_win_pct', 'elo',\n",
       "       'TEAM_ID_opp', 'TEAM_ABBREVIATION_opp', 'TEAM_NAME_opp', 'MIN_opp',\n",
       "       'PTS_opp', 'FGM_opp', 'FGA_opp', 'FG_PCT_opp', 'FG3M_opp',\n",
       "       'FG3A_opp', 'FG3_PCT_opp', 'FTM_opp', 'FTA_opp', 'FT_PCT_opp',\n",
       "       'OREB_opp', 'DREB_opp', 'REB_opp', 'AST_opp', 'STL_opp', 'BLK_opp',\n",
       "       'TOV_opp', 'PF_opp', 'PLUS_MINUS_opp', 'win_lose_margin_opp',\n",
       "       'home_opp', 'win_opp', 'home_team_abv_opp', 'away_team_abv_opp',\n",
       "       'matchup_id_opp', 'three_matchup_win_pct_opp', 'rest_days_opp',\n",
       "       'win_streak_opp', 'MIN_MA_opp', 'PTS_MA_opp', 'FGM_MA_opp',\n",
       "       'FGA_MA_opp', 'FG_PCT_MA_opp', 'FG3M_MA_opp', 'FG3A_MA_opp',\n",
       "       'FG3_PCT_MA_opp', 'FTM_MA_opp', 'FTA_MA_opp', 'FT_PCT_MA_opp',\n",
       "       'OREB_MA_opp', 'DREB_MA_opp', 'REB_MA_opp', 'AST_MA_opp',\n",
       "       'STL_MA_opp', 'BLK_MA_opp', 'TOV_MA_opp', 'PF_MA_opp',\n",
       "       'PLUS_MINUS_MA_opp', 'win_lose_margin_MA_opp', 'win_MA_opp',\n",
       "       'home_MA_opp', 'rest_days_MA_opp', 'win_record_opp',\n",
       "       'loss_record_opp', 'season_win_pct_opp', 'elo_opp'], dtype=object)"
      ]
     },
     "metadata": {},
     "output_type": "display_data"
    },
    {
     "data": {
      "text/plain": [
       "21020"
      ]
     },
     "metadata": {},
     "output_type": "display_data"
    },
    {
     "data": {
      "text/plain": [
       "SEASON_ID                0\n",
       "TEAM_ID                  0\n",
       "TEAM_ABBREVIATION        0\n",
       "TEAM_NAME                0\n",
       "GAME_ID                  0\n",
       "                      ... \n",
       "rest_days_MA_opp      2700\n",
       "win_record_opp           0\n",
       "loss_record_opp          0\n",
       "season_win_pct_opp       0\n",
       "elo_opp                  0\n",
       "Length: 124, dtype: int64"
      ]
     },
     "metadata": {},
     "output_type": "display_data"
    }
   ],
   "source": [
    "# Putting opponent features into columns\n",
    "league_games_opp = league_games.copy()\n",
    "league_games_opp.columns = [f\"{col}_opp\" if col not in [\"GAME_ID\", \"TEAM_ID\"] else col for col in league_games.columns]\n",
    "\n",
    "# Merge the two dataframes on the 'GAME_ID' column and opposite team IDs\n",
    "merged_df = pd.merge(league_games, league_games_opp, on=['GAME_ID'], suffixes=['', '_opp'], how='outer')\n",
    "merged_df = merged_df[merged_df['TEAM_ID'] != merged_df['TEAM_ID_opp']]  \n",
    "\n",
    "# Cleaning up columns a bit\n",
    "merged_df = merged_df.drop(columns=['index', 'Unnamed: 0', 'WL', 'index_opp', 'Unnamed: 0_opp', 'SEASON_ID_opp', 'GAME_DATE_opp', 'MATCHUP_opp', 'WL_opp'])\n",
    "\n",
    "# Inspecting merged dataset\n",
    "display(merged_df.columns.values)\n",
    "display(len(merged_df))\n",
    "display(merged_df.isna().sum())"
   ]
  },
  {
   "attachments": {},
   "cell_type": "markdown",
   "metadata": {},
   "source": [
    "There are still some missing values from the features I created. Namely, 10-game moving averages will not have any data for the first 10 games played by the team every season, which means the model will only be able to predict outcomes starting from the 11th game. This is fine because teams change season-to-season and it makes sense that the model will have a \"warm-up period\" to learn the teams before starting to predict. It also takes a while in 2014 for the dataset to accumulate three matchups between all team combinations for the three-matchup win percentage column, so there are missing values there as well. I will proceed to drop rows with missing values, which is about 5,002 rows, or about 23% of my dataset. While this is a high percentage of observations to drop, note that the data is still learning from these instances through moving averages and backward looking statistics such as three-matchup win percentage; it is just not able to predict on them. "
   ]
  },
  {
   "cell_type": "code",
   "execution_count": 335,
   "metadata": {},
   "outputs": [
    {
     "data": {
      "text/plain": [
       "16018"
      ]
     },
     "metadata": {},
     "output_type": "display_data"
    }
   ],
   "source": [
    "merged_df = merged_df.dropna()\n",
    "display(len(merged_df))"
   ]
  },
  {
   "cell_type": "code",
   "execution_count": 336,
   "metadata": {},
   "outputs": [
    {
     "data": {
      "text/html": [
       "<div>\n",
       "<style scoped>\n",
       "    .dataframe tbody tr th:only-of-type {\n",
       "        vertical-align: middle;\n",
       "    }\n",
       "\n",
       "    .dataframe tbody tr th {\n",
       "        vertical-align: top;\n",
       "    }\n",
       "\n",
       "    .dataframe thead th {\n",
       "        text-align: right;\n",
       "    }\n",
       "</style>\n",
       "<table border=\"1\" class=\"dataframe\">\n",
       "  <thead>\n",
       "    <tr style=\"text-align: right;\">\n",
       "      <th></th>\n",
       "      <th>SEASON_ID</th>\n",
       "      <th>TEAM_ID</th>\n",
       "      <th>TEAM_ABBREVIATION</th>\n",
       "      <th>TEAM_NAME</th>\n",
       "      <th>GAME_ID</th>\n",
       "      <th>GAME_DATE</th>\n",
       "      <th>MATCHUP</th>\n",
       "      <th>MIN</th>\n",
       "      <th>PTS</th>\n",
       "      <th>FGM</th>\n",
       "      <th>...</th>\n",
       "      <th>PF_MA_opp</th>\n",
       "      <th>PLUS_MINUS_MA_opp</th>\n",
       "      <th>win_lose_margin_MA_opp</th>\n",
       "      <th>win_MA_opp</th>\n",
       "      <th>home_MA_opp</th>\n",
       "      <th>rest_days_MA_opp</th>\n",
       "      <th>win_record_opp</th>\n",
       "      <th>loss_record_opp</th>\n",
       "      <th>season_win_pct_opp</th>\n",
       "      <th>elo_opp</th>\n",
       "    </tr>\n",
       "  </thead>\n",
       "  <tbody>\n",
       "    <tr>\n",
       "      <th>2349</th>\n",
       "      <td>22014</td>\n",
       "      <td>1610612738</td>\n",
       "      <td>BOS</td>\n",
       "      <td>Boston Celtics</td>\n",
       "      <td>21400591</td>\n",
       "      <td>2015-01-16</td>\n",
       "      <td>BOS vs. CHI</td>\n",
       "      <td>240</td>\n",
       "      <td>103</td>\n",
       "      <td>42</td>\n",
       "      <td>...</td>\n",
       "      <td>17.4</td>\n",
       "      <td>-3.4</td>\n",
       "      <td>-3.4</td>\n",
       "      <td>0.5</td>\n",
       "      <td>0.8</td>\n",
       "      <td>1.8</td>\n",
       "      <td>26.0</td>\n",
       "      <td>14.0</td>\n",
       "      <td>0.65</td>\n",
       "      <td>1529.743645</td>\n",
       "    </tr>\n",
       "    <tr>\n",
       "      <th>2350</th>\n",
       "      <td>22014</td>\n",
       "      <td>1610612741</td>\n",
       "      <td>CHI</td>\n",
       "      <td>Chicago Bulls</td>\n",
       "      <td>21400591</td>\n",
       "      <td>2015-01-16</td>\n",
       "      <td>CHI @ BOS</td>\n",
       "      <td>240</td>\n",
       "      <td>119</td>\n",
       "      <td>48</td>\n",
       "      <td>...</td>\n",
       "      <td>23.0</td>\n",
       "      <td>-3.8</td>\n",
       "      <td>-3.8</td>\n",
       "      <td>0.3</td>\n",
       "      <td>0.5</td>\n",
       "      <td>1.9</td>\n",
       "      <td>13.0</td>\n",
       "      <td>24.0</td>\n",
       "      <td>0.351351</td>\n",
       "      <td>1444.619516</td>\n",
       "    </tr>\n",
       "    <tr>\n",
       "      <th>2365</th>\n",
       "      <td>22014</td>\n",
       "      <td>1610612744</td>\n",
       "      <td>GSW</td>\n",
       "      <td>Golden State Warriors</td>\n",
       "      <td>21400593</td>\n",
       "      <td>2015-01-16</td>\n",
       "      <td>GSW @ OKC</td>\n",
       "      <td>239</td>\n",
       "      <td>115</td>\n",
       "      <td>42</td>\n",
       "      <td>...</td>\n",
       "      <td>23.2</td>\n",
       "      <td>-2.1</td>\n",
       "      <td>-2.1</td>\n",
       "      <td>0.5</td>\n",
       "      <td>0.5</td>\n",
       "      <td>2.5</td>\n",
       "      <td>18.0</td>\n",
       "      <td>20.0</td>\n",
       "      <td>0.473684</td>\n",
       "      <td>1524.330657</td>\n",
       "    </tr>\n",
       "    <tr>\n",
       "      <th>2366</th>\n",
       "      <td>22014</td>\n",
       "      <td>1610612760</td>\n",
       "      <td>OKC</td>\n",
       "      <td>Oklahoma City Thunder</td>\n",
       "      <td>21400593</td>\n",
       "      <td>2015-01-16</td>\n",
       "      <td>OKC vs. GSW</td>\n",
       "      <td>240</td>\n",
       "      <td>127</td>\n",
       "      <td>51</td>\n",
       "      <td>...</td>\n",
       "      <td>20.0</td>\n",
       "      <td>13.5</td>\n",
       "      <td>13.5</td>\n",
       "      <td>0.8</td>\n",
       "      <td>0.7</td>\n",
       "      <td>2.3</td>\n",
       "      <td>31.0</td>\n",
       "      <td>5.0</td>\n",
       "      <td>0.861111</td>\n",
       "      <td>1663.998881</td>\n",
       "    </tr>\n",
       "    <tr>\n",
       "      <th>2469</th>\n",
       "      <td>22014</td>\n",
       "      <td>1610612747</td>\n",
       "      <td>LAL</td>\n",
       "      <td>Los Angeles Lakers</td>\n",
       "      <td>21400622</td>\n",
       "      <td>2015-01-19</td>\n",
       "      <td>LAL @ PHX</td>\n",
       "      <td>240</td>\n",
       "      <td>100</td>\n",
       "      <td>34</td>\n",
       "      <td>...</td>\n",
       "      <td>22.8</td>\n",
       "      <td>3.4</td>\n",
       "      <td>3.4</td>\n",
       "      <td>0.6</td>\n",
       "      <td>0.4</td>\n",
       "      <td>1.9</td>\n",
       "      <td>24.0</td>\n",
       "      <td>18.0</td>\n",
       "      <td>0.571429</td>\n",
       "      <td>1565.558031</td>\n",
       "    </tr>\n",
       "  </tbody>\n",
       "</table>\n",
       "<p>5 rows × 124 columns</p>\n",
       "</div>"
      ],
      "text/plain": [
       "     SEASON_ID     TEAM_ID TEAM_ABBREVIATION              TEAM_NAME   GAME_ID  \\\n",
       "2349     22014  1610612738               BOS         Boston Celtics  21400591   \n",
       "2350     22014  1610612741               CHI          Chicago Bulls  21400591   \n",
       "2365     22014  1610612744               GSW  Golden State Warriors  21400593   \n",
       "2366     22014  1610612760               OKC  Oklahoma City Thunder  21400593   \n",
       "2469     22014  1610612747               LAL     Los Angeles Lakers  21400622   \n",
       "\n",
       "      GAME_DATE      MATCHUP  MIN  PTS  FGM  ...  PF_MA_opp  \\\n",
       "2349 2015-01-16  BOS vs. CHI  240  103   42  ...       17.4   \n",
       "2350 2015-01-16    CHI @ BOS  240  119   48  ...       23.0   \n",
       "2365 2015-01-16    GSW @ OKC  239  115   42  ...       23.2   \n",
       "2366 2015-01-16  OKC vs. GSW  240  127   51  ...       20.0   \n",
       "2469 2015-01-19    LAL @ PHX  240  100   34  ...       22.8   \n",
       "\n",
       "      PLUS_MINUS_MA_opp  win_lose_margin_MA_opp  win_MA_opp  home_MA_opp  \\\n",
       "2349               -3.4                    -3.4         0.5          0.8   \n",
       "2350               -3.8                    -3.8         0.3          0.5   \n",
       "2365               -2.1                    -2.1         0.5          0.5   \n",
       "2366               13.5                    13.5         0.8          0.7   \n",
       "2469                3.4                     3.4         0.6          0.4   \n",
       "\n",
       "      rest_days_MA_opp  win_record_opp  loss_record_opp  season_win_pct_opp  \\\n",
       "2349               1.8            26.0             14.0                0.65   \n",
       "2350               1.9            13.0             24.0            0.351351   \n",
       "2365               2.5            18.0             20.0            0.473684   \n",
       "2366               2.3            31.0              5.0            0.861111   \n",
       "2469               1.9            24.0             18.0            0.571429   \n",
       "\n",
       "          elo_opp  \n",
       "2349  1529.743645  \n",
       "2350  1444.619516  \n",
       "2365  1524.330657  \n",
       "2366  1663.998881  \n",
       "2469  1565.558031  \n",
       "\n",
       "[5 rows x 124 columns]"
      ]
     },
     "metadata": {},
     "output_type": "display_data"
    }
   ],
   "source": [
    "# Importing additional modules necessary for building and testing models\n",
    "from sklearn.decomposition import PCA\n",
    "from sklearn.ensemble import BaggingClassifier, RandomForestClassifier, GradientBoostingClassifier\n",
    "from sklearn.feature_selection import SequentialFeatureSelector\n",
    "from sklearn.linear_model import RidgeClassifier, LogisticRegression\n",
    "from sklearn.metrics import accuracy_score\n",
    "from sklearn.model_selection import TimeSeriesSplit, cross_val_score\n",
    "from sklearn.neighbors import KNeighborsClassifier\n",
    "from sklearn.preprocessing import MinMaxScaler, StandardScaler\n",
    "from sklearn.svm import SVC\n",
    "from sklearn.tree import DecisionTreeClassifier\n",
    "from xgboost import XGBClassifier\n",
    "\n",
    "# Preprocessing and scaling data\n",
    "merged_df = merged_df.sort_values(by='GAME_DATE')\n",
    "display(merged_df.head())\n",
    "removed_columns = ['index', 'home_team_abv_opp', 'away_team_abv_opp', 'home_team_abv', 'away_team_abv',\n",
    "       'matchup_id_opp', 'matchup_id', 'SEASON_ID', 'TEAM_ID', 'TEAM_ABBREVIATION', 'TEAM_NAME',\n",
    "       'GAME_ID', 'GAME_DATE', 'MATCHUP', 'MIN', 'PTS', 'FGM', 'FGA',\n",
    "       'FG_PCT', 'FG3M', 'FG3A', 'FG3_PCT', 'FTM', 'FTA', 'FT_PCT',\n",
    "       'OREB', 'DREB', 'REB', 'AST', 'STL', 'BLK', 'TOV', 'PF',\n",
    "       'PLUS_MINUS', 'win', 'TEAM_ID_opp', 'TEAM_ABBREVIATION_opp', \n",
    "       'TEAM_NAME_opp', 'MIN_opp','PTS_opp', 'FGM_opp', 'FGA_opp', 'FG_PCT_opp', \n",
    "       'FG3M_opp', 'FG3A_opp', 'FG3_PCT_opp', 'FTM_opp', 'FTA_opp', 'FT_PCT_opp',\n",
    "       'OREB_opp', 'DREB_opp', 'REB_opp', 'AST_opp', 'STL_opp', 'BLK_opp',\n",
    "       'TOV_opp', 'PF_opp', 'PLUS_MINUS_opp', 'home_opp', 'win_opp', 'win_lose_margin', 'win_lose_margin_opp']\n",
    "selected_columns = merged_df.columns[~merged_df.columns.isin(removed_columns)]\n",
    "\n",
    "\n",
    "# Scaling all features so they are between 0 and 1\n",
    "scaler = MinMaxScaler()\n",
    "merged_df[selected_columns] = scaler.fit_transform(merged_df[selected_columns])"
   ]
  },
  {
   "attachments": {},
   "cell_type": "markdown",
   "metadata": {},
   "source": [
    "Below, I will be performing dimensionality reduction with PCA. Currently, the dataset has 63 features, many of which are correlated with one another (for example, 'FG_PCT' is just a function of 'FGA' and 'FGM'). PCA will help identify the most important features that explain the majority of the variance in the data, as well as help me choose the number of principal components to keep."
   ]
  },
  {
   "cell_type": "code",
   "execution_count": 337,
   "metadata": {},
   "outputs": [
    {
     "data": {
      "image/png": "[encoded data removed]",
      "text/plain": [
       "<Figure size 640x480 with 1 Axes>"
      ]
     },
     "metadata": {},
     "output_type": "display_data"
    }
   ],
   "source": [
    "# Dimensionality reduction with PCA\n",
    "pca = PCA(n_components=63)\n",
    "X_pca_all_features = pca.fit_transform(merged_df[selected_columns])\n",
    "fig, ax = plt.subplots()\n",
    "ax.plot(range(1, 64), pca.explained_variance_ratio_, marker='o', label='Explained Variance Ratio')\n",
    "ax.plot(range(1, 64), pca.explained_variance_ratio_.cumsum(), marker='o', label='Cumulative Explained Variance Ratio')\n",
    "ax.set_xlabel('Number of Principal Components')\n",
    "ax.set_ylabel('Explained Variance Ratio')\n",
    "ax.legend()\n",
    "plt.show()\n",
    "\n",
    "pca = PCA(n_components=30)\n",
    "X_pca = pca.fit_transform(merged_df[selected_columns])\n",
    "y = np.array(merged_df['win']).reshape(-1, 1)\n",
    "seasons = np.array(merged_df['SEASON_ID']).reshape(-1, 1)\n",
    "X = np.concatenate([X_pca, y, seasons], axis=1)"
   ]
  },
  {
   "attachments": {},
   "cell_type": "markdown",
   "metadata": {},
   "source": [
    "According to the graph above, it is evident that the explained variance plateaus after about 40 principal components, so I have reduced my data down to 40 features.\n",
    "\n",
    "Below, I will define a function called backtest that will allow me to test each of my models on a current season by looking back at all of the previous seasons that are available in the dataset. The function starts predicting after the second season, meaning that it does not predict on the 2014-2015 and 2015-2016 seasons. "
   ]
  },
  {
   "cell_type": "code",
   "execution_count": 338,
   "metadata": {},
   "outputs": [],
   "source": [
    "# Backtest\n",
    "def backtest(X, y, model, start=2, step=1):\n",
    "\n",
    "    \"\"\"\n",
    "    A function to perform backtesting on NBA game data using the input X and output y.\n",
    "    \n",
    "    Parameters:\n",
    "        X (numpy.ndarray): An array of input data of shape (n_samples, n_features).\n",
    "        y (numpy.ndarray): An array of output data of shape (n_samples,).\n",
    "        model (object): An object of any scikit-learn compatible model.\n",
    "        start (int): An integer representing the starting index of the testing seasons in X[:, -1].\n",
    "        step (int): An integer representing the step size for incrementing the testing seasons.\n",
    "    \n",
    "    Returns:\n",
    "        A pandas DataFrame containing the actual and predicted output values for each testing season.\n",
    "    \"\"\"\n",
    "\n",
    "    # Initialize an empty list to hold all the predictions for each testing season\n",
    "    all_predictions = []\n",
    "    \n",
    "    # Get all the unique seasons in the input data\n",
    "    seasons = np.unique(X[:, -1])\n",
    "    \n",
    "    # Flatten the output data into a 1D array\n",
    "    y = y.ravel()\n",
    "    \n",
    "    # Loop through all the testing seasons to train and test model, return pandas dataframe with actual and predicted outputs\n",
    "    for i in range(start, len(seasons), step):\n",
    "        season = seasons[i]\n",
    "        train_mask = X[:, -1] < season\n",
    "        test_mask = X[:, -1] == season\n",
    "        train_X, train_y = X[train_mask, :-2], y[train_mask]\n",
    "        test_X, test_y = X[test_mask, :-2], y[test_mask]\n",
    "        model.fit(train_X, train_y)\n",
    "        preds = model.predict(test_X)\n",
    "        preds = pd.Series(preds, index=np.where(test_mask)[0])\n",
    "        combined = pd.concat([pd.Series(test_y.flatten(), index=np.where(test_mask)[0]), preds], axis=1)\n",
    "        combined.columns = [\"actual\", \"prediction\"]\n",
    "        all_predictions.append(combined)\n",
    "    return pd.concat(all_predictions)"
   ]
  },
  {
   "attachments": {},
   "cell_type": "markdown",
   "metadata": {},
   "source": [
    "I will proceed to test my models in two ways. One is through the use of the backtest function, which will predict whether a team won or lost for all games starting in the 2017-2018 season. The model predicts by season, using all previous seasons available in the dataset.\n",
    "\n",
    "The other way I will test my models is through cross-validation using TimeSeriesSplit, which uses a similar methodology but is season-agnostic. In other words, it splits the data up into 5 consecutive folds and tests the 4 most recent folds on any data that occurs before it, but it may contain a mix of seasons in each fold. "
   ]
  },
  {
   "cell_type": "code",
   "execution_count": 339,
   "metadata": {},
   "outputs": [
    {
     "name": "stdout",
     "output_type": "stream",
     "text": [
      "Ridge Regression Mean Cross-Validation Accuracy Score: 0.6480329711502437\n",
      "KNN Mean Cross-Validation Accuracy Score: 0.5893593106032222\n",
      "Support Vector Classifier Mean Cross-Validation Accuracy Score: 0.6352191832146872\n",
      "Gradient Boosting Mean Cross-Validation Accuracy Score: 0.6431622330460847\n",
      "Bagging Classifier Mean Cross-Validation Accuracy Score: 0.5990258523791683\n",
      "Random Forest Classifier Mean Cross-Validation Accuracy Score: 0.6369426751592357\n",
      "Decision Tree Classifer Mean Cross-Validation Accuracy Score: 0.5637317347321094\n",
      "Logistic Regression Mean Cross-Validation Accuracy Score: 0.6478081678531286\n",
      "XGB Classifier Mean Cross-Validation Accuracy Score: 0.6134132633945297\n"
     ]
    },
    {
     "data": {
      "image/png": "[encoded data removed]",
      "text/plain": [
       "<Figure size 640x480 with 1 Axes>"
      ]
     },
     "metadata": {},
     "output_type": "display_data"
    },
    {
     "name": "stdout",
     "output_type": "stream",
     "text": [
      "Ridge Regression Test Set Accuracy: 0.6440373563218391\n",
      "KNN Test Set Accuracy: 0.5900862068965518\n",
      "Support Vector Classifier Test Set Accuracy: 0.6324712643678161\n",
      "Gradient Boosting Test Set Accuracy: 0.6405172413793103\n",
      "Bagging Classifier Test Set Accuracy: 0.6031609195402299\n",
      "Random Forest Classifier Test Set Accuracy: 0.6385775862068965\n",
      "Decision Tree Classifer Test Set Accuracy: 0.554382183908046\n",
      "Logistic Regression Test Set Accuracy: 0.6444683908045977\n",
      "XGB Classifier Test Set Accuracy: 0.6148706896551724\n"
     ]
    }
   ],
   "source": [
    "# Define a dictionary of models to be tested\n",
    "np.random.seed(41)\n",
    "models ={\"Ridge Regression\": RidgeClassifier(random_state=41), \"KNN\": KNeighborsClassifier(), \n",
    "         \"Support Vector Classifier\": SVC(random_state=41), \"Gradient Boosting\": GradientBoostingClassifier(random_state=41),\n",
    "\t     \"Bagging Classifier\": BaggingClassifier(random_state=41), \"Random Forest Classifier\": RandomForestClassifier(random_state=41),\n",
    "         \"Decision Tree Classifer\": DecisionTreeClassifier(random_state=41), \"Logistic Regression\": LogisticRegression(random_state=41, max_iter=2000),\n",
    "         \"XGB Classifier\": XGBClassifier(random_state=41)}\n",
    "\n",
    "#Initialize empty list to hold results of cv scores \n",
    "results = []\n",
    "\n",
    "# Find cross-validation scores and mean cross-validation scores for each model using 5 splits\n",
    "for name, model in models.items():\n",
    "\ttscv = TimeSeriesSplit(n_splits=5)\n",
    "\ty = y.ravel()\n",
    "\t# Perform cross-validation using the current model and the PCA-transformed data with the TimeSeriesSplit object\n",
    "\tcv_results = cross_val_score(model, X_pca, y, cv=tscv, scoring='accuracy') \n",
    "\tresults.append(cv_results)\n",
    "\tprint(\"{} Mean Cross-Validation Accuracy Score: {}\".format(name, cv_results.mean()))\n",
    "\t\n",
    "# Sort the models by the mean cross-validation accuracy score\n",
    "sorted_results = sorted(zip(models.keys(), results), key=lambda x: x[1].mean(), reverse=False)\n",
    "labels = [model[0] for model in sorted_results]\n",
    "results = [model[1] for model in sorted_results]\n",
    "\n",
    "# Plot a boxplot of the cross-validation scores for each model\n",
    "plt.boxplot(results, labels=labels, meanline=True, showmeans=True, vert=False)\n",
    "plt.title('Cross-validation scores by model using scaled features')\n",
    "plt.xlabel('Cross-validation score')\n",
    "plt.show()\n",
    "\n",
    "# Evaluate the performance of each model on the test set using the backtest function\n",
    "for name, model in models.items(): \n",
    "\tpredictions = backtest(X, y, model)\n",
    "\t# Calculate the accuracy score for the model's predictions\n",
    "\tscore = accuracy_score(predictions[\"actual\"], predictions[\"prediction\"])\n",
    "\tprint(\"{} Test Set Accuracy: {}\".format(name, score))"
   ]
  },
  {
   "attachments": {},
   "cell_type": "markdown",
   "metadata": {},
   "source": [
    "The Ridge Classifier and Logistic Regression have the best scores for both testing methods. I will tune their hyperparameters to see if we can further improve their accuracies."
   ]
  },
  {
   "cell_type": "code",
   "execution_count": 342,
   "metadata": {},
   "outputs": [
    {
     "name": "stdout",
     "output_type": "stream",
     "text": [
      "Fitting 5 folds for each of 6 candidates, totalling 30 fits\n",
      "{'alpha': 10}\n",
      "Ridge backtesting accuracy with best params: 0.644971264367816\n",
      "Ridge mean CV score using best hyperparameters: 0.6494567253653053\n"
     ]
    }
   ],
   "source": [
    "from sklearn.model_selection import GridSearchCV \n",
    "\n",
    "tscv = TimeSeriesSplit(n_splits=5)\n",
    "ridge_params = {\n",
    "    \"alpha\": [0.001, 0.01, 0.1, 1, 5, 10],\n",
    "}\n",
    "\n",
    "# Initializing a Ridge Classifier with GridSearchCV to find the best alpha parameter\n",
    "ridge_cv = GridSearchCV(RidgeClassifier(), ridge_params, cv=tscv, verbose=1, n_jobs=-1)\n",
    "ridge_cv.fit(X_pca, y)\n",
    "print(ridge_cv.best_params_)\n",
    "\n",
    "# Initializing a Ridge Classifier with the best hyperparameters found by GridSearchCV\n",
    "ridge_best = RidgeClassifier(alpha=ridge_cv.best_params_['alpha'])\n",
    "\n",
    "# Backtesting Ridge Classifier with the best hyperparameters found by GridSearchCV\n",
    "predictions = backtest(X, y, ridge_best)\n",
    "\n",
    "# Calculating the backtesting accuracy score of the Ridge Classifier with the best hyperparameters\n",
    "ridge_best_score = accuracy_score(predictions[\"actual\"], predictions[\"prediction\"])\n",
    "print(\"Ridge backtesting accuracy with best params: {}\".format(ridge_best_score))  \n",
    "\n",
    "# Calculating the mean cross-validation accuracy score of the Ridge Classifier with the best hyperparameters\n",
    "ridge_best_cv = cross_val_score(ridge_best, X_pca, y, cv=tscv, scoring='accuracy') \n",
    "print(\"Ridge mean CV score using best hyperparameters: {}\".format(ridge_best_cv.mean()))\n"
   ]
  },
  {
   "cell_type": "code",
   "execution_count": 343,
   "metadata": {},
   "outputs": [
    {
     "name": "stdout",
     "output_type": "stream",
     "text": [
      "Fitting 5 folds for each of 21 candidates, totalling 105 fits\n",
      "{'C': 0.2, 'penalty': 'l2', 'solver': 'liblinear'}\n",
      "Logreg backtesting accuracy with best params: 0.646264367816092\n",
      "Logreg mean CV score using best hyperparameters: 0.6502060696890221\n"
     ]
    }
   ],
   "source": [
    "# Grid Searching logreg parameters using unscaled features\n",
    "logreg_params = {\n",
    "    'penalty':['l2'],\n",
    "    'C':[0.01, 0.1, 0.2, 0.4, 0.6, 0.8, 1], \n",
    "    'solver':['liblinear', 'lbfgs', 'newton-cg']\n",
    "}\n",
    "\n",
    "# Initializing a Logistic Regression with GridSearchCV to find the best parameters\n",
    "logreg_cv = GridSearchCV(LogisticRegression(), logreg_params, cv=tscv, verbose=1, n_jobs=-1)\n",
    "logreg_cv.fit(X_pca, y)\n",
    "print(logreg_cv.best_params_)\n",
    "\n",
    "# Initializing a Logistic Regression with the best hyperparameters found by GridSearchCV\n",
    "logreg_best = LogisticRegression(penalty=logreg_cv.best_params_['penalty'], C=logreg_cv.best_params_['C'], solver=logreg_cv.best_params_['solver'])\n",
    "\n",
    "# Backtesting Logistic Regression with the best hyperparameters found by GridSearchCV\n",
    "predictions = backtest(X, y, logreg_best)\n",
    "\n",
    "# Calculating the backtesting accuracy score of the Logistic Regression with the best hyperparameters\n",
    "logreg_best_score = accuracy_score(predictions[\"actual\"], predictions[\"prediction\"])\n",
    "print(\"Logreg backtesting accuracy with best params: {}\".format(logreg_best_score))    \n",
    "\n",
    "# Calculating the mean cross-validation accuracy score of the Logistic Regression with the best hyperparameters\n",
    "logreg_best_cv = cross_val_score(logreg_best, X_pca, y, cv=tscv, scoring='accuracy')     \n",
    "print(\"Logreg mean CV score using best hyperparameters: {}\".format(logreg_best_cv.mean()))"
   ]
  },
  {
   "attachments": {},
   "cell_type": "markdown",
   "metadata": {},
   "source": [
    "## Model Improvements\n",
    "With tuned hyperparameters, both models perform at about a 64-65% accuracy. From doing some research online, it seems that the absolute best NBA models have an accuracy score around 70%, with very few exceptions. There's a reason that sports betting is still profitable for many companies such as DraftKings and FanDuel - the outcome of sports is pretty hard to predict! \n",
    "\n",
    "Based on my research, the best-performing NBA models tend to build in more complex features, such player matchups between teams, injuries, trades, and even chemistry between different player personalities on the court. These features are a bit harder to track and source, and can be difficult to quantify. While I am pretty happy with my accuracy of 65%, I am excited to continue exploring ways to improve my model. "
   ]
  }
 ],
 "metadata": {
  "kernelspec": {
   "display_name": "Python 3",
   "language": "python",
   "name": "python3"
  },
  "language_info": {
   "codemirror_mode": {
    "name": "ipython",
    "version": 3
   },
   "file_extension": ".py",
   "mimetype": "text/x-python",
   "name": "python",
   "nbconvert_exporter": "python",
   "pygments_lexer": "ipython3",
   "version": "3.11.1 (v3.11.1:a7a450f84a, Dec  6 2022, 15:24:06) [Clang 13.0.0 (clang-1300.0.29.30)]"
  },
  "orig_nbformat": 4,
  "vscode": {
   "interpreter": {
    "hash": "aee8b7b246df8f9039afb4144a1f6fd8d2ca17a180786b69acc140d282b71a49"
   }
  }
 },
 "nbformat": 4,
 "nbformat_minor": 2
}
