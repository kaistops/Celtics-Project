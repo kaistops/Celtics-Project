{
 "cells": [
  {
   "attachments": {},
   "cell_type": "markdown",
   "metadata": {},
   "source": [
    "## Importing Data from NBA_API\n",
    "\n",
    "For this analysis, I will be using data sourced from NBA.com through NBA_API, which is a free and open-source API available through Python. The API code and methodology is available here: https://github.com/swar/nba_api"
   ]
  },
  {
   "cell_type": "code",
   "execution_count": null,
   "metadata": {},
   "outputs": [],
   "source": [
    "import pandas as pd \n",
    "import numpy as np\n",
    "from warnings import simplefilter\n",
    "simplefilter(action=\"ignore\", category=pd.errors.PerformanceWarning)\n",
    "simplefilter(action=\"ignore\", category=pd.errors.SettingWithCopyWarning)\n",
    "\n",
    "# Importing all NBA games\n",
    "\n",
    "from nba_api.stats.endpoints import leaguegamefinder\n",
    "gamefinder = leaguegamefinder.LeagueGameFinder(league_id_nullable=\"00\")\n",
    "league_games = gamefinder.get_data_frames()[0]\n",
    "\n",
    "league_games = league_games[league_games['SEASON_ID'].isin(['22022', '22021', '22020', '22019', '22018', '22017', '22016', '22015', '22014'])]\n",
    "\n",
    "league_games[['SEASON_ID', 'GAME_ID', 'TEAM_ID']] = league_games[['SEASON_ID', 'GAME_ID', 'TEAM_ID']].astype(str)\n",
    "\n",
    "display(league_games)\n",
    "league_games.to_csv('/Users/kaileighstopa/Desktop/Python Practice/Celtics Project/league_games.csv')\n",
    "\n",
    "seasons = ['22022', '22021', '22020', '22019', '22018', '22017', '22016', '22015', '22014']\n",
    "\n",
    "# from nba_api.stats.endpoints import boxscoretraditionalv2\n",
    "# import time\n",
    "\n",
    "# league_box_scores = pd.DataFrame()\n",
    "# for season in seasons:\n",
    "#     season  = league_games[league_games['SEASON_ID'] == season]\n",
    "#     display(season)\n",
    "#     season_game_ids = season['GAME_ID'].unique()\n",
    "#     display(len(season_game_ids))\n",
    "#     for game_id in season_game_ids:\n",
    "#         league_box_score = boxscoretraditionalv2.BoxScoreTraditionalV2(game_id=game_id, timeout=200000)\n",
    "#         league_box_score = league_box_score.get_data_frames()[0]\n",
    "#         league_box_scores = pd.concat([league_box_scores, league_box_score], axis=0)\n",
    "#         time.sleep(1)\n",
    "\n",
    "# display(league_box_scores.head())\n",
    "\n",
    "# league_box_scores.to_csv('/Users/kaileighstopa/Desktop/Python Practice/Celtics Project/league_box_scores.csv')\n",
    "\n",
    "league_games = pd.read_csv('/Users/kaileighstopa/Desktop/Python Practice/Celtics Project/league_games.csv')\n",
    "league_box_scores = pd.read_csv('/Users/kaileighstopa/Desktop/Python Practice/Celtics Project/league_box_scores.csv')"
   ]
  }
 ],
 "metadata": {
  "kernelspec": {
   "display_name": "Python 3",
   "language": "python",
   "name": "python3"
  },
  "language_info": {
   "name": "python",
   "version": "3.11.1 (v3.11.1:a7a450f84a, Dec  6 2022, 15:24:06) [Clang 13.0.0 (clang-1300.0.29.30)]"
  },
  "orig_nbformat": 4,
  "vscode": {
   "interpreter": {
    "hash": "aee8b7b246df8f9039afb4144a1f6fd8d2ca17a180786b69acc140d282b71a49"
   }
  }
 },
 "nbformat": 4,
 "nbformat_minor": 2
}
